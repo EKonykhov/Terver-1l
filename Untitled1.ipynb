{
 "cells": [
  {
   "cell_type": "code",
   "execution_count": 44,
   "id": "850c717d",
   "metadata": {},
   "outputs": [
    {
     "name": "stdout",
     "output_type": "stream",
     "text": [
      "715.0\n"
     ]
    }
   ],
   "source": [
    "# Из колоды в 52 карты извлекаются случайным образом 4 карты. a) Найти вероятность того, что все карты – крести.\n",
    "\n",
    "from math import factorial\n",
    "\n",
    "x = 52\n",
    "y = 4\n",
    "z = 4\n",
    "\n",
    "f1 = factorial(x/y)/(factorial(z)*factorial(x/y-z))\n",
    "\n",
    "print (f1)"
   ]
  },
  {
   "cell_type": "code",
   "execution_count": 45,
   "id": "3100da8d",
   "metadata": {},
   "outputs": [
    {
     "name": "stdout",
     "output_type": "stream",
     "text": [
      "270725.0\n"
     ]
    }
   ],
   "source": [
    "f2 = factorial(x)/(factorial(z)*factorial(x-z))\n",
    "print (f2)"
   ]
  },
  {
   "cell_type": "code",
   "execution_count": 46,
   "id": "253474d9",
   "metadata": {},
   "outputs": [
    {
     "name": "stdout",
     "output_type": "stream",
     "text": [
      "0.0026410564225690276\n"
     ]
    }
   ],
   "source": [
    "print (f1/f2) # решение"
   ]
  },
  {
   "cell_type": "code",
   "execution_count": 47,
   "id": "a1f72512",
   "metadata": {},
   "outputs": [
    {
     "name": "stdout",
     "output_type": "stream",
     "text": [
      "0.2812632745405855\n"
     ]
    }
   ],
   "source": [
    "# б) Найти вероятность, что среди 4-х карт окажется хотя бы один туз.\n",
    "\n",
    "f3 = factorial(x-y)/(factorial(z)*factorial(x-y-z))\n",
    "print ((f2 - f3) / f2) # решение"
   ]
  },
  {
   "cell_type": "code",
   "execution_count": 52,
   "id": "a96ad440",
   "metadata": {},
   "outputs": [
    {
     "name": "stdout",
     "output_type": "stream",
     "text": [
      "0.008333333333333333\n"
     ]
    }
   ],
   "source": [
    "# На входной двери подъезда установлен кодовый замок, содержащий десять кнопок с цифрами от 0 до 9. \n",
    "# Код содержит три цифры, которые нужно нажать одновременно. Какова вероятность того, что человек, \n",
    "# не знающий код, откроет дверь с первой попытки?\n",
    "\n",
    "x = 10\n",
    "y = 3\n",
    "\n",
    "f4 = 1 / (factorial(x)/(factorial(y)*factorial(x-y)))\n",
    "print(f4)"
   ]
  },
  {
   "cell_type": "code",
   "execution_count": 53,
   "id": "d8a1d749",
   "metadata": {},
   "outputs": [
    {
     "name": "stdout",
     "output_type": "stream",
     "text": [
      "0.18461538461538463\n"
     ]
    }
   ],
   "source": [
    "# В ящике имеется 15 деталей, из которых 9 окрашены. Рабочий случайным образом извлекает 3 детали. \n",
    "# Какова вероятность того, что все извлеченные детали окрашены?\n",
    "\n",
    "x, y = 9, 3\n",
    "x1 = 15\n",
    "\n",
    "f5 = factorial(x)/(factorial(y)*factorial(x-y)) / (factorial(x1)/(factorial(y)*factorial(x1-y)))\n",
    "print (f5)\n"
   ]
  },
  {
   "cell_type": "code",
   "execution_count": 51,
   "id": "0d6535ef",
   "metadata": {},
   "outputs": [
    {
     "name": "stdout",
     "output_type": "stream",
     "text": [
      "0.00020202020202020202\n"
     ]
    }
   ],
   "source": [
    "# В лотерее 100 билетов. Из них 2 выигрышных. Какова вероятность того, что 2 приобретенных \n",
    "# билета окажутся выигрышными?\n",
    "\n",
    "x = 100\n",
    "y = 2\n",
    "\n",
    "f4 = 1 / (factorial(x)/(factorial(y)*factorial(x-y)))\n",
    "print(f4)"
   ]
  },
  {
   "cell_type": "code",
   "execution_count": null,
   "id": "e98709d3",
   "metadata": {},
   "outputs": [],
   "source": []
  }
 ],
 "metadata": {
  "kernelspec": {
   "display_name": "Python 3",
   "language": "python",
   "name": "python3"
  },
  "language_info": {
   "codemirror_mode": {
    "name": "ipython",
    "version": 3
   },
   "file_extension": ".py",
   "mimetype": "text/x-python",
   "name": "python",
   "nbconvert_exporter": "python",
   "pygments_lexer": "ipython3",
   "version": "3.7.3"
  }
 },
 "nbformat": 4,
 "nbformat_minor": 5
}
